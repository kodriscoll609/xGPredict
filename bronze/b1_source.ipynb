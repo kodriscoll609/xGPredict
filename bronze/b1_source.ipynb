{
 "cells": [
  {
   "cell_type": "code",
   "execution_count": 1,
   "id": "269b0bda",
   "metadata": {},
   "outputs": [
    {
     "name": "stderr",
     "output_type": "stream",
     "text": [
      "C:\\Users\\kodri\\anaconda3\\envs\\citynet\\lib\\site-packages\\tqdm\\auto.py:22: TqdmWarning: IProgress not found. Please update jupyter and ipywidgets. See https://ipywidgets.readthedocs.io/en/stable/user_install.html\n",
      "  from .autonotebook import tqdm as notebook_tqdm\n"
     ]
    }
   ],
   "source": [
    "import pandas as pd\n",
    "import sqlite3\n",
    "import numpy as np\n",
    "import requests\n",
    "import re\n",
    "from datetime import datetime\n",
    "import time\n",
    "\n",
    "import sys\n",
    "import os\n",
    "\n",
    "sys.path.append(os.getenv(\"ADMIN_PATH\"))\n",
    "import library"
   ]
  },
  {
   "cell_type": "markdown",
   "id": "9a1e77a5",
   "metadata": {
    "tags": []
   },
   "source": [
    "### 1. Create a league and teams selection\n",
    "Retrieve links from xg tables and extract league and team info"
   ]
  },
  {
   "cell_type": "code",
   "execution_count": null,
   "id": "f8cf673d",
   "metadata": {},
   "outputs": [],
   "source": [
    "test"
   ]
  },
  {
   "cell_type": "code",
   "execution_count": 2,
   "id": "8341dacf-4bb6-4c22-89f6-029d76b90dac",
   "metadata": {},
   "outputs": [
    {
     "name": "stdout",
     "output_type": "stream",
     "text": [
      "34 seconds to load\n"
     ]
    }
   ],
   "source": [
    "# Create a base from retrieved links to filter before committing\n",
    "a = time.time()\n",
    "links = library.retrievedLinks(library.bronze_path)\n",
    "processor = library.processLinks(links)\n",
    "processor.run()\n",
    "last_retreived_date = str(links.date.max())\n",
    "links = processor.df[['league_cleaned', 'teams_cleaned']].drop_duplicates()\n",
    "print(f\"{round(time.time() - a)} seconds to load\")\n",
    "league_selection = links.league_cleaned.unique()\n",
    "team_selection = links.teams_cleaned.unique()\n",
    "del links"
   ]
  },
  {
   "cell_type": "markdown",
   "id": "aeb8fbb4",
   "metadata": {},
   "source": [
    "### 2. Generate dates"
   ]
  },
  {
   "cell_type": "code",
   "execution_count": 3,
   "id": "b4513895",
   "metadata": {},
   "outputs": [],
   "source": [
    "# Create a list of missing links with a lag to allow for updates\n",
    "dates = library.generate_dates_between(last_retreived_date, lag = 3)"
   ]
  },
  {
   "cell_type": "markdown",
   "id": "ce0b0907-7921-469e-984d-4d2891fbb1e4",
   "metadata": {
    "tags": []
   },
   "source": [
    "### 3.  Retrieve links"
   ]
  },
  {
   "cell_type": "code",
   "execution_count": 4,
   "id": "86a06148-5991-4ce3-9cf1-d7bc8b5d5ca4",
   "metadata": {},
   "outputs": [],
   "source": [
    "processor = library.getLinks(dates)\n",
    "processor.run()\n",
    "data = pd.DataFrame({'link': processor.new_links, 'date': processor.url_dates})"
   ]
  },
  {
   "cell_type": "markdown",
   "id": "07feb04b-b226-4f57-b591-ce2734f15036",
   "metadata": {},
   "source": [
    "### 4. Process and filter"
   ]
  },
  {
   "cell_type": "code",
   "execution_count": 5,
   "id": "95168022-e657-4209-86a4-8991c4c59589",
   "metadata": {},
   "outputs": [
    {
     "name": "stdout",
     "output_type": "stream",
     "text": [
      "902 links before filtering. Committing 182 links.\n"
     ]
    }
   ],
   "source": [
    "processor = library.processLinks(data)\n",
    "processor.run()\n",
    "result = processor.df[['link', 'date', 'league', 'league_cleaned', 'teams_cleaned']]\n",
    "mask = (result.league_cleaned.isin(league_selection)) | (result.teams_cleaned.isin(team_selection))\n",
    "i = len(result)\n",
    "result = result[mask].drop(['league_cleaned', 'teams_cleaned'], axis = 1).rename({'league':'league_name'}, axis = 1)\n",
    "print(f\"{i} links before filtering. Committing {len(result)} links.\")\n",
    "result['time_processed'] = datetime.now()\n",
    "result['retrieved'] = np.nan"
   ]
  },
  {
   "cell_type": "markdown",
   "id": "1e7ac0ab-bc43-486b-9241-00a92ef523c1",
   "metadata": {},
   "source": [
    "### 5. Commit"
   ]
  },
  {
   "cell_type": "code",
   "execution_count": 6,
   "id": "0db0ddb5",
   "metadata": {},
   "outputs": [],
   "source": [
    "# Establish connection to the SQLite database\n",
    "conn = sqlite3.connect(library.bronze_path)\n",
    "\n",
    "result.to_sql('b1_xg_links', conn, if_exists='append', index=False)\n",
    "\n",
    "conn.close()"
   ]
  }
 ],
 "metadata": {
  "kernelspec": {
   "display_name": "Python 3 (ipykernel)",
   "language": "python",
   "name": "python3"
  },
  "language_info": {
   "codemirror_mode": {
    "name": "ipython",
    "version": 3
   },
   "file_extension": ".py",
   "mimetype": "text/x-python",
   "name": "python",
   "nbconvert_exporter": "python",
   "pygments_lexer": "ipython3",
   "version": "3.10.4"
  }
 },
 "nbformat": 4,
 "nbformat_minor": 5
}
